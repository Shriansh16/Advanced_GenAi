{
 "cells": [
  {
   "cell_type": "code",
   "execution_count": 3,
   "metadata": {},
   "outputs": [
    {
     "data": {
      "text/plain": [
       "True"
      ]
     },
     "execution_count": 3,
     "metadata": {},
     "output_type": "execute_result"
    }
   ],
   "source": [
    "import os\n",
    "from dotenv import load_dotenv\n",
    "load_dotenv()"
   ]
  },
  {
   "cell_type": "code",
   "execution_count": 7,
   "metadata": {},
   "outputs": [],
   "source": [
    "open_api_key=os.getenv(\"OPENAI_API_KEY\")\n",
    "langchain_api_key=os.getenv(\"LANGCHAIN_API_KEY\")\n",
    "LANGCHAIN_PROJECT=os.getenv(\"LANGCHAIN_PROJECT\")"
   ]
  },
  {
   "cell_type": "code",
   "execution_count": 18,
   "metadata": {},
   "outputs": [],
   "source": [
    "## Langsmith Tracking\n",
    "os.environ[\"LANGCHAIN_API_KEY\"]=os.getenv(\"LANGCHAIN_API_KEY\")\n",
    "os.environ[\"LANGCHAIN_TRACING_V2\"]=\"true\"\n",
    "os.environ[\"LANGCHAIN_PROJECT\"]=os.getenv(\"LANGCHAIN_PROJECT\")"
   ]
  },
  {
   "cell_type": "code",
   "execution_count": 19,
   "metadata": {},
   "outputs": [],
   "source": [
    "from langchain_openai import ChatOpenAI\n",
    "llm=ChatOpenAI(api_key=open_api_key,model=\"gpt-4o\")"
   ]
  },
  {
   "cell_type": "code",
   "execution_count": 20,
   "metadata": {},
   "outputs": [
    {
     "name": "stdout",
     "output_type": "stream",
     "text": [
      "client=<openai.resources.chat.completions.Completions object at 0x0000024F12B6DCF0> async_client=<openai.resources.chat.completions.AsyncCompletions object at 0x0000024F12B874F0> model_name='gpt-4o' openai_api_key=SecretStr('**********') openai_proxy=''\n"
     ]
    }
   ],
   "source": [
    "print(llm)"
   ]
  },
  {
   "cell_type": "code",
   "execution_count": 21,
   "metadata": {},
   "outputs": [],
   "source": [
    "result=llm.invoke(\"what are climbers?\")"
   ]
  },
  {
   "cell_type": "code",
   "execution_count": 22,
   "metadata": {},
   "outputs": [
    {
     "data": {
      "text/plain": [
       "'Climbers, also known as climbing plants or vines, are plants that grow vertically by using various structures to support themselves. They have specialized adaptations that allow them to attach to surfaces or other plants to reach sunlight, which they may not be able to access if they grew horizontally or remained low to the ground. There are several types of climbers:\\n\\n1. **Twining Climbers**: These plants grow by wrapping their stems around a support structure. Examples include morning glories and honeysuckle.\\n\\n2. **Tendrils**: Some climbers use specialized structures called tendrils to grasp onto supports. Tendrils can be modified stems, leaves, or leaflets. Examples include peas and grapes.\\n\\n3. **Clinging Climbers**: These have specialized structures like rootlets or adhesive pads that allow them to cling to surfaces such as walls or trees. Examples include ivy and Boston ivy.\\n\\n4. **Scramblers**: These plants do not have specialized climbing structures but can still grow upwards by leaning on other plants or supports. Examples include roses and bougainvillea.\\n\\nClimbers can be used in gardening and landscaping to cover walls, trellises, and arbors, adding vertical interest and sometimes providing shade or privacy. They can also play important roles in natural ecosystems by providing habitat and food for wildlife.'"
      ]
     },
     "execution_count": 22,
     "metadata": {},
     "output_type": "execute_result"
    }
   ],
   "source": [
    "result.content"
   ]
  },
  {
   "cell_type": "code",
   "execution_count": 23,
   "metadata": {},
   "outputs": [
    {
     "data": {
      "text/plain": [
       "ChatPromptTemplate(input_variables=['input'], messages=[SystemMessagePromptTemplate(prompt=PromptTemplate(input_variables=[], template='You are an expert AI Engineer. Provide me answers based on the questions')), HumanMessagePromptTemplate(prompt=PromptTemplate(input_variables=['input'], template='{input}'))])"
      ]
     },
     "execution_count": 23,
     "metadata": {},
     "output_type": "execute_result"
    }
   ],
   "source": [
    "### Chatprompt Template\n",
    "from langchain_core.prompts import ChatPromptTemplate\n",
    "\n",
    "prompt=ChatPromptTemplate.from_messages(\n",
    "    [\n",
    "        (\"system\",\"You are an expert AI Engineer. Provide me answers based on the questions\"),\n",
    "        (\"user\",\"{input}\")\n",
    "    ]\n",
    "\n",
    ")\n",
    "prompt"
   ]
  },
  {
   "cell_type": "code",
   "execution_count": 25,
   "metadata": {},
   "outputs": [
    {
     "name": "stdout",
     "output_type": "stream",
     "text": [
      "Generative AI (Gen AI) refers to a category of artificial intelligence algorithms that can generate new content, such as text, images, music, and even code, based on patterns and data they have been trained on. These algorithms use various techniques from machine learning, particularly deep learning, to understand and replicate the structure and features of the data they are trained on.\n",
      "\n",
      "Some popular models in Generative AI include:\n",
      "\n",
      "1. **GPT (Generative Pre-trained Transformer)**: Developed by OpenAI, GPT models are designed for natural language processing tasks. They can generate human-like text based on the input they receive.\n",
      "\n",
      "2. **GANs (Generative Adversarial Networks)**: Introduced by Ian Goodfellow and his colleagues, GANs consist of two neural networks, a generator and a discriminator, that work against each other to produce realistic data.\n",
      "\n",
      "3. **VAEs (Variational Autoencoders)**: These are used for generating new data points similar to the input data by learning the underlying distribution.\n",
      "\n",
      "4. **DALL-E and Stable Diffusion**: Also developed by OpenAI, these models are designed to generate images from textual descriptions.\n",
      "\n",
      "5. **Music Generation Models**: Such as OpenAI's MuseNet, which can generate music in various styles and genres.\n",
      "\n",
      "Generative AI has a wide range of applications, including:\n",
      "\n",
      "- **Content Creation**: Writing articles, creating art, composing music.\n",
      "- **Data Augmentation**: Generating synthetic data to train other machine learning models.\n",
      "- **Design and Creativity**: Assisting in creative processes like graphic design and fashion design.\n",
      "- **Healthcare**: Generating medical data for research and training purposes.\n",
      "- **Gaming and Entertainment**: Creating characters, stories, and game environments.\n",
      "\n",
      "The technology is rapidly evolving and holds promise for transforming various industries by automating and enhancing creative and data-intensive tasks. However, it also raises ethical concerns such as the potential for misuse in generating fake news, deepfakes, and other malicious content.\n"
     ]
    }
   ],
   "source": [
    "chain=prompt|llm\n",
    "response=chain.invoke({\"input\":\"what is gen ai?\"})\n",
    "print(response.content)"
   ]
  },
  {
   "cell_type": "code",
   "execution_count": 27,
   "metadata": {},
   "outputs": [
    {
     "name": "stdout",
     "output_type": "stream",
     "text": [
      "Machine learning is a subset of artificial intelligence (AI) that involves the development of algorithms and statistical models that enable computers to perform tasks without being explicitly programmed to do so. Instead of following pre-defined rules, machine learning systems learn from data to identify patterns and make decisions.\n",
      "\n",
      "### Key Concepts in Machine Learning:\n",
      "1. **Data**: The raw material for machine learning. Data can be structured (like databases) or unstructured (like text or images).\n",
      "2. **Algorithms**: Procedures or formulas for solving problems. In machine learning, algorithms are used to identify patterns in data.\n",
      "3. **Models**: The output of machine learning algorithms after training on data. A model makes predictions or decisions based on new data.\n",
      "4. **Training**: The process of feeding data into the algorithm so it can learn from it.\n",
      "5. **Features**: The individual measurable properties or characteristics of the data being used.\n",
      "6. **Labels**: The output variable or the target that the model tries to predict. In supervised learning, each training example has a label.\n",
      "\n",
      "### Types of Machine Learning:\n",
      "1. **Supervised Learning**: The algorithm learns from labeled data. For example, classifying emails as spam or not spam based on past labeled examples.\n",
      "   - **Classification**: Output is a category (e.g., spam or not spam).\n",
      "   - **Regression**: Output is a continuous value (e.g., predicting house prices).\n",
      "\n",
      "2. **Unsupervised Learning**: The algorithm learns from unlabeled data. The goal is to find hidden patterns or intrinsic structures in the input data.\n",
      "   - **Clustering**: Grouping similar data points together (e.g., customer segmentation).\n",
      "   - **Dimensionality Reduction**: Reducing the number of features while preserving the essential information (e.g., principal component analysis).\n",
      "\n",
      "3. **Semi-Supervised Learning**: Combines a small amount of labeled data with a large amount of unlabeled data during training. This can significantly improve learning accuracy.\n",
      "\n",
      "4. **Reinforcement Learning**: The algorithm learns by interacting with an environment and receiving rewards or penalties. It is often used in robotics, game playing, and navigation.\n",
      "\n",
      "### Applications of Machine Learning:\n",
      "- **Natural Language Processing (NLP)**: Language translation, sentiment analysis, chatbots.\n",
      "- **Computer Vision**: Image and video recognition, facial recognition.\n",
      "- **Healthcare**: Disease prediction, personalized treatment plans.\n",
      "- **Finance**: Fraud detection, stock market predictions.\n",
      "- **Marketing**: Customer segmentation, targeted advertising.\n",
      "\n",
      "Machine learning continues to evolve and expand, driving innovations across various industries and transforming the way we interact with technology.\n"
     ]
    }
   ],
   "source": [
    "## stroutputparser:- to trace the output\n",
    "from langchain_core.output_parsers import StrOutputParser\n",
    "output_parser=StrOutputParser()\n",
    "chain=prompt|llm|output_parser\n",
    "print(chain.invoke({\"input\":\"what is machine learning\"}))\n",
    "#now i dont need to mention content\n"
   ]
  },
  {
   "cell_type": "code",
   "execution_count": null,
   "metadata": {},
   "outputs": [],
   "source": []
  },
  {
   "cell_type": "code",
   "execution_count": null,
   "metadata": {},
   "outputs": [],
   "source": []
  }
 ],
 "metadata": {
  "kernelspec": {
   "display_name": "Python 3",
   "language": "python",
   "name": "python3"
  },
  "language_info": {
   "codemirror_mode": {
    "name": "ipython",
    "version": 3
   },
   "file_extension": ".py",
   "mimetype": "text/x-python",
   "name": "python",
   "nbconvert_exporter": "python",
   "pygments_lexer": "ipython3",
   "version": "3.10.0"
  }
 },
 "nbformat": 4,
 "nbformat_minor": 2
}
